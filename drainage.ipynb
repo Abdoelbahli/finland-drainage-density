{
 "cells": [
  {
   "cell_type": "code",
   "execution_count": null,
   "metadata": {},
   "outputs": [],
   "source": [
    "import geopandas as gpd\n",
    "import numpy as np\n",
    "import matplotlib.pyplot as plt\n",
    "from scipy.stats import gaussian_kde\n",
    "from rasterio.plot import show\n",
    "import rasterio\n",
    "from shapely.geometry import LineString\n",
    "from scipy.stats import gaussian_kde"
   ]
  },
  {
   "cell_type": "code",
   "execution_count": null,
   "metadata": {},
   "outputs": [],
   "source": [
    "# Load Finland boundary (projected CRS, e.g., EPSG:3067)\n",
    "finland = gpd.read_file(\"finland_boundary.shp\").to_crs(epsg=3067)\n",
    "\n",
    "# Load stream network (ensure it's clipped to Finland and in the same CRS)\n",
    "streams = gpd.read_file(\"rivers_finland.shp\").to_crs(finland.crs)\n",
    "\n",
    "# Load DEM (optional, for hillshade)\n",
    "dem = rasterio.open(\"finland_dem.tif\")"
   ]
  },
  {
   "cell_type": "code",
   "execution_count": null,
   "metadata": {},
   "outputs": [],
   "source": [
    "def line_to_points(line, spacing=100):  # 100m spacing\n",
    "    points = []\n",
    "    for geom in line.geometry:\n",
    "        if isinstance(geom, LineString):\n",
    "            length = geom.length\n",
    "            for distance in np.arange(0, length, spacing):\n",
    "                point = geom.interpolate(distance)\n",
    "                points.append([point.x, point.y])\n",
    "    return np.array(points)\n",
    "\n",
    "# Generate points along all streams\n",
    "stream_points = line_to_points(streams, spacing=100)"
   ]
  },
  {
   "cell_type": "code",
   "execution_count": null,
   "metadata": {},
   "outputs": [],
   "source": [
    "import numpy as np\n",
    "import matplotlib.pyplot as plt\n",
    "from scipy.stats import gaussian_kde\n",
    "\n",
    "# Assume 'finland' is your GeoDataFrame reprojected to EPSG:3067.\n",
    "xmin, ymin, xmax, ymax = finland.total_bounds  # e.g. [75242.32, 6637484.63, 732058.46, 7774506.09]\n",
    "grid_res = 4891  # resolution in meters\n",
    "xi = np.arange(xmin, xmax, grid_res)\n",
    "yi = np.arange(ymin, ymax, grid_res)\n",
    "print(\"xi shape:\", xi.shape)  # Expected around (135,)\n",
    "print(\"yi shape:\", yi.shape)  # Expected around (233,)\n",
    "\n",
    "xx, yy = np.meshgrid(xi, yi)\n",
    "n_rows, n_cols = xx.shape\n",
    "print(\"Grid shape (rows x cols):\", n_rows, \"x\", n_cols)\n",
    "\n"
   ]
  },
  {
   "cell_type": "code",
   "execution_count": null,
   "metadata": {},
   "outputs": [],
   "source": [
    "# stream_points should be an array of shape (n_points, 2)\n",
    "kde_cpu = gaussian_kde(stream_points.T, bw_method=0.1)\n",
    "print(\"CPU KDE object created.\")\n"
   ]
  },
  {
   "cell_type": "code",
   "execution_count": null,
   "metadata": {},
   "outputs": [],
   "source": [
    "# Partition the grid along rows.\n",
    "chunk_size = 10  # adjust as needed (number of rows per chunk)\n",
    "chunks = []\n",
    "for start in range(0, n_rows, chunk_size):\n",
    "    end = min(start + chunk_size, n_rows)\n",
    "    # Each chunk is built from the rows [start:end] of the grid.\n",
    "    # We stack the x and y coordinates to form a (2, m) array.\n",
    "    chunk_grid = np.vstack([xx[start:end].ravel(), yy[start:end].ravel()])\n",
    "    chunks.append((start, end, chunk_grid))\n",
    "print(f\"Total chunks created: {len(chunks)}\")"
   ]
  },
  {
   "cell_type": "code",
   "execution_count": null,
   "metadata": {},
   "outputs": [],
   "source": [
    "# Define a worker function that initializes (or reuses) a cached KDE object on the worker.\n",
    "def process_cpu_with_init(chunk_grid, bw_method=0.1):\n",
    "    global _cpu_kde\n",
    "    try:\n",
    "        _cpu_kde\n",
    "    except NameError:\n",
    "        from scipy.stats import gaussian_kde\n",
    "        # Initialize using stream_points.T (shape (2, n))\n",
    "        _cpu_kde = gaussian_kde(stream_points.T, bw_method=bw_method)\n",
    "    # Evaluate KDE on the given chunk_grid (shape (2, m))\n",
    "    return _cpu_kde(chunk_grid)\n",
    "\n",
    "# Set up a Dask local cluster for CPU processing.\n",
    "from dask.distributed import LocalCluster, Client, progress\n",
    "cluster = LocalCluster(n_workers=4, threads_per_worker=1)  # adjust number of workers as needed\n",
    "client = Client(cluster)\n",
    "print(\"Cluster workers:\", client.scheduler_info()[\"workers\"])\n"
   ]
  },
  {
   "cell_type": "code",
   "execution_count": null,
   "metadata": {},
   "outputs": [],
   "source": [
    "# Submit each chunk as a separate task.\n",
    "futures = []\n",
    "for idx, (start, end, chunk_grid) in enumerate(chunks):\n",
    "    fut = client.submit(process_cpu_with_init, chunk_grid, bw_method=0.1)\n",
    "    futures.append((start, end, fut))\n",
    "print(\"Submitted\", len(futures), \"tasks.\")\n",
    "progress([fut for _, _, fut in futures])"
   ]
  },
  {
   "cell_type": "code",
   "execution_count": null,
   "metadata": {},
   "outputs": [],
   "source": [
    "density_full = np.empty((n_rows, n_cols))\n",
    "for start, end, fut in futures:\n",
    "    chunk_result = fut.result()  # This is a 1D array for the chunk.\n",
    "    n_chunk_rows = end - start\n",
    "    density_full[start:end, :] = chunk_result.reshape(n_chunk_rows, n_cols)\n",
    "print(\"Reassembled density grid shape:\", density_full.shape)"
   ]
  },
  {
   "cell_type": "code",
   "execution_count": null,
   "metadata": {},
   "outputs": [],
   "source": [
    "import geopandas as gpd\n",
    "import matplotlib.pyplot as plt\n",
    "from matplotlib.patches import Rectangle, FancyArrowPatch\n",
    "\n",
    "fig, ax = plt.subplots(figsize=(10, 10))\n",
    "\n",
    "# Display the density grid using the 'nipy_spectral' colormap.\n",
    "im = ax.imshow(density_full, extent=[xmin, xmax, ymin, ymax],\n",
    "               origin='lower', cmap='nipy_spectral', alpha=0.8)\n",
    "\n",
    "# Overlay Finland boundaries from the shapefile.\n",
    "finland.boundary.plot(ax=ax, edgecolor='black', linewidth=1.5)\n",
    "\n",
    "cbar = fig.colorbar(im, ax=ax, fraction=0.036, pad=0.04)\n",
    "cbar.set_label(\"Density (km/km²)\", fontsize=12)\n",
    "\n",
    "\n",
    "# Add a scale bar.\n",
    "scalebar_length = 100000  # 100 km\n",
    "x0, x1 = ax.get_xlim()\n",
    "y0, y1 = ax.get_ylim()\n",
    "scalebar_x = x0 + 0.3*(x1 - x0)\n",
    "scalebar_y = y0 + 0.1*(y1 - y0)\n",
    "ax.plot([scalebar_x, scalebar_x + scalebar_length],\n",
    "        [scalebar_y, scalebar_y], 'k-', lw=3)\n",
    "ax.text(scalebar_x + scalebar_length/2, scalebar_y - 0.02*(y1-y0),\n",
    "        f'{scalebar_length/1000:.0f} km', ha='center', va='top', fontsize=12)\n",
    "\n",
    "# Add a north arrow.\n",
    "arrow_x = x1 - 0.1*(x1 - x0)\n",
    "arrow_y = y0 + 0.9*(y1 - y0)\n",
    "# Add a north arrow with white \"N\".\n",
    "ax.annotate('N', \n",
    "            xy=(arrow_x, arrow_y + 0.05*(y1-y0)),\n",
    "            xytext=(arrow_x, arrow_y),\n",
    "            arrowprops=dict(facecolor='white', width=5, headwidth=15),\n",
    "            ha='center', va='center', fontsize=14, color='white')\n",
    "\n",
    "# Title and labels.\n",
    "ax.set_title(\"Drainage density Map of Finland\", fontsize=16)\n",
    "ax.set_xlabel(\"Easting (m)\", fontsize=14)\n",
    "ax.set_ylabel(\"Northing (m)\", fontsize=14)\n",
    "\n",
    "plt.tight_layout()\n",
    "plt.show()"
   ]
  }
 ],
 "metadata": {
  "kernelspec": {
   "display_name": "Python 3",
   "language": "python",
   "name": "python3"
  },
  "language_info": {
   "codemirror_mode": {
    "name": "ipython",
    "version": 3
   },
   "file_extension": ".py",
   "mimetype": "text/x-python",
   "name": "python",
   "nbconvert_exporter": "python",
   "pygments_lexer": "ipython3",
   "version": "3.12.0"
  }
 },
 "nbformat": 4,
 "nbformat_minor": 2
}
